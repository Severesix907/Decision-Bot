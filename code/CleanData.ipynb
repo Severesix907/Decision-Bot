{
 "cells": [
  {
   "cell_type": "code",
   "execution_count": 56,
   "metadata": {},
   "outputs": [],
   "source": [
    "import pandas as pd\n",
    "import numpy as np\n",
    "import warnings\n",
    "import seaborn as sns\n",
    "import matplotlib.pyplot as plt\n",
    "\n",
    "warnings.filterwarnings('ignore')\n",
    "\n",
    "df = pd.read_csv(r'C:\\Users\\Xavier\\Decision-Bot\\data\\NYPD_Arrest_Data_2023.csv')\n",
    "\n",
    "# WebLink to Data : https://www.kaggle.com/datasets/justinpakzad/nypd-arrests-2023-dataset\n",
    "# Weblink to Codes : https://www.n2nov.net/nypdcodes.html"
   ]
  },
  {
   "cell_type": "code",
   "execution_count": 57,
   "metadata": {},
   "outputs": [
    {
     "data": {
      "text/html": [
       "<div>\n",
       "<style scoped>\n",
       "    .dataframe tbody tr th:only-of-type {\n",
       "        vertical-align: middle;\n",
       "    }\n",
       "\n",
       "    .dataframe tbody tr th {\n",
       "        vertical-align: top;\n",
       "    }\n",
       "\n",
       "    .dataframe thead th {\n",
       "        text-align: right;\n",
       "    }\n",
       "</style>\n",
       "<table border=\"1\" class=\"dataframe\">\n",
       "  <thead>\n",
       "    <tr style=\"text-align: right;\">\n",
       "      <th></th>\n",
       "      <th>ARREST_KEY</th>\n",
       "      <th>ARREST_DATE</th>\n",
       "      <th>PD_CD</th>\n",
       "      <th>PD_DESC</th>\n",
       "      <th>KY_CD</th>\n",
       "      <th>OFNS_DESC</th>\n",
       "      <th>LAW_CODE</th>\n",
       "      <th>LAW_CAT_CD</th>\n",
       "      <th>ARREST_BORO</th>\n",
       "      <th>ARREST_PRECINCT</th>\n",
       "      <th>JURISDICTION_CODE</th>\n",
       "      <th>AGE_GROUP</th>\n",
       "      <th>PERP_SEX</th>\n",
       "      <th>PERP_RACE</th>\n",
       "      <th>X_COORD_CD</th>\n",
       "      <th>Y_COORD_CD</th>\n",
       "      <th>Latitude</th>\n",
       "      <th>Longitude</th>\n",
       "    </tr>\n",
       "  </thead>\n",
       "  <tbody>\n",
       "    <tr>\n",
       "      <th>0</th>\n",
       "      <td>261209118</td>\n",
       "      <td>01/01/2023</td>\n",
       "      <td>109</td>\n",
       "      <td>ASSAULT 2,1,UNCLASSIFIED</td>\n",
       "      <td>106.0</td>\n",
       "      <td>FELONY ASSAULT</td>\n",
       "      <td>PL 1200501</td>\n",
       "      <td>F</td>\n",
       "      <td>K</td>\n",
       "      <td>77</td>\n",
       "      <td>0</td>\n",
       "      <td>45-64</td>\n",
       "      <td>F</td>\n",
       "      <td>BLACK</td>\n",
       "      <td>999335</td>\n",
       "      <td>186085</td>\n",
       "      <td>40.677426</td>\n",
       "      <td>-73.945615</td>\n",
       "    </tr>\n",
       "    <tr>\n",
       "      <th>1</th>\n",
       "      <td>262984267</td>\n",
       "      <td>02/03/2023</td>\n",
       "      <td>515</td>\n",
       "      <td>CONTROLLED SUBSTANCE,SALE 3</td>\n",
       "      <td>117.0</td>\n",
       "      <td>DANGEROUS DRUGS</td>\n",
       "      <td>PL 2203901</td>\n",
       "      <td>F</td>\n",
       "      <td>K</td>\n",
       "      <td>73</td>\n",
       "      <td>0</td>\n",
       "      <td>25-44</td>\n",
       "      <td>M</td>\n",
       "      <td>BLACK</td>\n",
       "      <td>1009318</td>\n",
       "      <td>178259</td>\n",
       "      <td>40.655923</td>\n",
       "      <td>-73.909650</td>\n",
       "    </tr>\n",
       "    <tr>\n",
       "      <th>2</th>\n",
       "      <td>263664549</td>\n",
       "      <td>02/15/2023</td>\n",
       "      <td>105</td>\n",
       "      <td>STRANGULATION 1ST</td>\n",
       "      <td>106.0</td>\n",
       "      <td>FELONY ASSAULT</td>\n",
       "      <td>PL 1211200</td>\n",
       "      <td>F</td>\n",
       "      <td>K</td>\n",
       "      <td>62</td>\n",
       "      <td>0</td>\n",
       "      <td>25-44</td>\n",
       "      <td>M</td>\n",
       "      <td>WHITE</td>\n",
       "      <td>982272</td>\n",
       "      <td>158771</td>\n",
       "      <td>40.602468</td>\n",
       "      <td>-74.007120</td>\n",
       "    </tr>\n",
       "    <tr>\n",
       "      <th>3</th>\n",
       "      <td>261345231</td>\n",
       "      <td>01/04/2023</td>\n",
       "      <td>105</td>\n",
       "      <td>STRANGULATION 1ST</td>\n",
       "      <td>106.0</td>\n",
       "      <td>FELONY ASSAULT</td>\n",
       "      <td>PL 1211200</td>\n",
       "      <td>F</td>\n",
       "      <td>M</td>\n",
       "      <td>32</td>\n",
       "      <td>0</td>\n",
       "      <td>25-44</td>\n",
       "      <td>M</td>\n",
       "      <td>BLACK</td>\n",
       "      <td>999899</td>\n",
       "      <td>238684</td>\n",
       "      <td>40.821797</td>\n",
       "      <td>-73.943457</td>\n",
       "    </tr>\n",
       "    <tr>\n",
       "      <th>4</th>\n",
       "      <td>263536618</td>\n",
       "      <td>02/13/2023</td>\n",
       "      <td>109</td>\n",
       "      <td>ASSAULT 2,1,UNCLASSIFIED</td>\n",
       "      <td>106.0</td>\n",
       "      <td>FELONY ASSAULT</td>\n",
       "      <td>PL 12005WX</td>\n",
       "      <td>F</td>\n",
       "      <td>K</td>\n",
       "      <td>71</td>\n",
       "      <td>0</td>\n",
       "      <td>25-44</td>\n",
       "      <td>M</td>\n",
       "      <td>BLACK</td>\n",
       "      <td>1001437</td>\n",
       "      <td>183080</td>\n",
       "      <td>40.669175</td>\n",
       "      <td>-73.938042</td>\n",
       "    </tr>\n",
       "  </tbody>\n",
       "</table>\n",
       "</div>"
      ],
      "text/plain": [
       "   ARREST_KEY ARREST_DATE  PD_CD                      PD_DESC  KY_CD  \\\n",
       "0   261209118  01/01/2023    109     ASSAULT 2,1,UNCLASSIFIED  106.0   \n",
       "1   262984267  02/03/2023    515  CONTROLLED SUBSTANCE,SALE 3  117.0   \n",
       "2   263664549  02/15/2023    105            STRANGULATION 1ST  106.0   \n",
       "3   261345231  01/04/2023    105            STRANGULATION 1ST  106.0   \n",
       "4   263536618  02/13/2023    109     ASSAULT 2,1,UNCLASSIFIED  106.0   \n",
       "\n",
       "         OFNS_DESC    LAW_CODE LAW_CAT_CD ARREST_BORO  ARREST_PRECINCT  \\\n",
       "0   FELONY ASSAULT  PL 1200501          F           K               77   \n",
       "1  DANGEROUS DRUGS  PL 2203901          F           K               73   \n",
       "2   FELONY ASSAULT  PL 1211200          F           K               62   \n",
       "3   FELONY ASSAULT  PL 1211200          F           M               32   \n",
       "4   FELONY ASSAULT  PL 12005WX          F           K               71   \n",
       "\n",
       "   JURISDICTION_CODE AGE_GROUP PERP_SEX PERP_RACE  X_COORD_CD  Y_COORD_CD  \\\n",
       "0                  0     45-64        F     BLACK      999335      186085   \n",
       "1                  0     25-44        M     BLACK     1009318      178259   \n",
       "2                  0     25-44        M     WHITE      982272      158771   \n",
       "3                  0     25-44        M     BLACK      999899      238684   \n",
       "4                  0     25-44        M     BLACK     1001437      183080   \n",
       "\n",
       "    Latitude  Longitude  \n",
       "0  40.677426 -73.945615  \n",
       "1  40.655923 -73.909650  \n",
       "2  40.602468 -74.007120  \n",
       "3  40.821797 -73.943457  \n",
       "4  40.669175 -73.938042  "
      ]
     },
     "execution_count": 57,
     "metadata": {},
     "output_type": "execute_result"
    }
   ],
   "source": [
    "df.head()"
   ]
  },
  {
   "cell_type": "code",
   "execution_count": 58,
   "metadata": {},
   "outputs": [
    {
     "name": "stdout",
     "output_type": "stream",
     "text": [
      "<class 'pandas.core.frame.DataFrame'>\n",
      "RangeIndex: 170095 entries, 0 to 170094\n",
      "Data columns (total 18 columns):\n",
      " #   Column             Non-Null Count   Dtype  \n",
      "---  ------             --------------   -----  \n",
      " 0   ARREST_KEY         170095 non-null  int64  \n",
      " 1   ARREST_DATE        170095 non-null  object \n",
      " 2   PD_CD              170095 non-null  int64  \n",
      " 3   PD_DESC            170095 non-null  object \n",
      " 4   KY_CD              170082 non-null  float64\n",
      " 5   OFNS_DESC          170095 non-null  object \n",
      " 6   LAW_CODE           170095 non-null  object \n",
      " 7   LAW_CAT_CD         168838 non-null  object \n",
      " 8   ARREST_BORO        170095 non-null  object \n",
      " 9   ARREST_PRECINCT    170095 non-null  int64  \n",
      " 10  JURISDICTION_CODE  170095 non-null  int64  \n",
      " 11  AGE_GROUP          170095 non-null  object \n",
      " 12  PERP_SEX           170095 non-null  object \n",
      " 13  PERP_RACE          170095 non-null  object \n",
      " 14  X_COORD_CD         170095 non-null  int64  \n",
      " 15  Y_COORD_CD         170095 non-null  int64  \n",
      " 16  Latitude           170095 non-null  float64\n",
      " 17  Longitude          170095 non-null  float64\n",
      "dtypes: float64(3), int64(6), object(9)\n",
      "memory usage: 23.4+ MB\n"
     ]
    }
   ],
   "source": [
    "df.info()"
   ]
  },
  {
   "cell_type": "code",
   "execution_count": 59,
   "metadata": {},
   "outputs": [
    {
     "data": {
      "text/plain": [
       "ARREST_KEY              0\n",
       "ARREST_DATE             0\n",
       "PD_CD                   0\n",
       "PD_DESC                 0\n",
       "KY_CD                  13\n",
       "OFNS_DESC               0\n",
       "LAW_CODE                0\n",
       "LAW_CAT_CD           1257\n",
       "ARREST_BORO             0\n",
       "ARREST_PRECINCT         0\n",
       "JURISDICTION_CODE       0\n",
       "AGE_GROUP               0\n",
       "PERP_SEX                0\n",
       "PERP_RACE               0\n",
       "X_COORD_CD              0\n",
       "Y_COORD_CD              0\n",
       "Latitude                0\n",
       "Longitude               0\n",
       "dtype: int64"
      ]
     },
     "execution_count": 59,
     "metadata": {},
     "output_type": "execute_result"
    }
   ],
   "source": [
    "df.isna().sum() \n",
    "#Finds null values in data (0 = No Missing Data)"
   ]
  },
  {
   "cell_type": "markdown",
   "metadata": {},
   "source": [
    "#### Removing Irrelevant Data to our project\n",
    "* Coordinate info\n",
    "* LAW_CAT_CD"
   ]
  },
  {
   "cell_type": "code",
   "execution_count": 60,
   "metadata": {},
   "outputs": [],
   "source": [
    "#Removing Unnecessary Data\n",
    "new_df = df.dropna()\n",
    "#This code creates a new data set, whilst removing null values"
   ]
  },
  {
   "cell_type": "code",
   "execution_count": 61,
   "metadata": {},
   "outputs": [
    {
     "data": {
      "text/plain": [
       "ARREST_KEY           0\n",
       "ARREST_DATE          0\n",
       "PD_CD                0\n",
       "PD_DESC              0\n",
       "KY_CD                0\n",
       "OFNS_DESC            0\n",
       "LAW_CODE             0\n",
       "LAW_CAT_CD           0\n",
       "ARREST_BORO          0\n",
       "ARREST_PRECINCT      0\n",
       "JURISDICTION_CODE    0\n",
       "AGE_GROUP            0\n",
       "PERP_SEX             0\n",
       "PERP_RACE            0\n",
       "X_COORD_CD           0\n",
       "Y_COORD_CD           0\n",
       "Latitude             0\n",
       "Longitude            0\n",
       "dtype: int64"
      ]
     },
     "execution_count": 61,
     "metadata": {},
     "output_type": "execute_result"
    }
   ],
   "source": [
    "#Data Removed\n",
    "new_df.isna().sum()\n",
    "#Testing to ensure the null values are removed "
   ]
  },
  {
   "cell_type": "code",
   "execution_count": 62,
   "metadata": {},
   "outputs": [],
   "source": [
    "new_df = new_df.drop(columns = ['X_COORD_CD', 'Y_COORD_CD', 'Latitude', 'Longitude'], axis = 1) \n",
    "# new_df is being reassigned to NEW_DF with the updated data (Removing coordinates)"
   ]
  },
  {
   "cell_type": "code",
   "execution_count": 63,
   "metadata": {},
   "outputs": [
    {
     "name": "stdout",
     "output_type": "stream",
     "text": [
      "Patrol jurisdiction arrests: 150598 \n",
      "Tranist jurisdiction arrests: 7966 \n",
      "Housing jurisdiction arrests: 6262 \n",
      "Non-NYPD jurisdiction arrests: 3999 \n",
      "\n"
     ]
    }
   ],
   "source": [
    "a = 0 # '0' Patrol \n",
    "b = 0 # '1' Transit\n",
    "c = 0 # '2' Housing \n",
    "d = 0 # '3' Non-NYPD\n",
    "\n",
    "# This is making lists for each Jurisdiction code \n",
    "\n",
    "for x in new_df[\"JURISDICTION_CODE\"]: \n",
    "    if x == 0: # If x reads code 0\n",
    "        a += 1 # A counts up \n",
    "    elif x == 1: # If x counts code 1 \n",
    "        b += 1 # B counts up \n",
    "    elif x == 2: # If x reads code 2 \n",
    "        c += 1 # C counts up\n",
    "    else: \n",
    "        x == 3 # If x reads code 3 \n",
    "        d += 1 # D counts up\n",
    "\n",
    "print (f\"Patrol jurisdiction arrests: {a} \\n\" # Prints each jurisdiction code arrests\n",
    "       f\"Tranist jurisdiction arrests: {b} \\n\"\n",
    "       f\"Housing jurisdiction arrests: {c} \\n\"\n",
    "       f\"Non-NYPD jurisdiction arrests: {d} \\n\") # 'f' required before \"{'lists made'}\" to ensure that it formats the int to print "
   ]
  },
  {
   "cell_type": "markdown",
   "metadata": {},
   "source": [
    "### We can determine that mosts arrests are made by Patrol jurisdiction"
   ]
  },
  {
   "cell_type": "code",
   "execution_count": 64,
   "metadata": {},
   "outputs": [
    {
     "data": {
      "image/png": "[encoded data removed]",
      "text/plain": [
       "<Figure size 1500x1000 with 6 Axes>"
      ]
     },
     "metadata": {},
     "output_type": "display_data"
    }
   ],
   "source": [
    "new_df.hist(figsize = (15,10), color = 'skyblue')\n",
    "plt.subplots_adjust(hspace = 0.5) \n",
    "plt.show()\n",
    "\n",
    "# After viewing that the data is only corresponding to types of int64/float64 we must now organize data for objects as they do not appear. "
   ]
  },
  {
   "cell_type": "markdown",
   "metadata": {},
   "source": [
    "## Objects to be converted\n",
    "### Easiest (Top)\n",
    "* Sex; m = 0, f = 1 [DONE] \n",
    "* Law Cat CD; Violation = 0, Misdemeanor = 1, Felony = 2; [DONE]\n",
    "* Jurisdiction code; Patrol = 0, Transit = 1, Housing = 2, Non-NYPD = 3; [Integer to convert]\n",
    "* Arrest Borough; Bk, Bx, Q, M, S = [0-4]; \n",
    "* PD_CD = PD_DESC(Run loop to find which codes equal desc) [Ex:PD_CD = 105 == PD_DESC = Strangulation 1st]\n",
    "* Arrest Date; if 1, Jan. (Date range to determine which week. Ex: if x < 1 || x > 31;)\n",
    "* Age Group (<18 = 0, 18-24 = 1, 25-44 = 2, 45-64 = 3, 65+ = 4)\n",
    "* Perp Race (White = 0, Black = 1, White Hispanic = 2, Black Hispanic = 3, Asian/ PI = 4)\n",
    "* Law Code {We have no fucking clue}\n",
    "#### Hardest (Bottom)"
   ]
  },
  {
   "cell_type": "code",
   "execution_count": 36,
   "metadata": {},
   "outputs": [
    {
     "name": "stdout",
     "output_type": "stream",
     "text": [
      "This many Males have committed a crime: 135866\n",
      "This many Females have committed a crime: 28827\n"
     ]
    }
   ],
   "source": [
    "## This is to identify the individual sexes that have commited crimes respectively (PERP_SEX)\n",
    "\n",
    "Male = []\n",
    "\n",
    "for x in new_df[\"PERP_SEX\"]:\n",
    "    if x =='M':\n",
    "        Male.append(x)\n",
    "\n",
    "Male_Num = len(Male)\n",
    "print(f\"This many Males have committed a crime: {Male_Num}\")\n",
    "\n",
    "Female = []\n",
    "\n",
    "for x in new_df[\"PERP_SEX\"]:\n",
    "    if x =='F':\n",
    "        Female.append(x)\n",
    "\n",
    "Female_Num = len(Female)\n",
    "\n",
    "print(f\"This many Females have committed a crime: {Female_Num}\")"
   ]
  },
  {
   "cell_type": "code",
   "execution_count": 38,
   "metadata": {},
   "outputs": [],
   "source": [
    "## This is to drop 2 categories in LAW_CAT_CD section as they are irrelevant\n",
    "\n",
    "new_df = new_df.drop(new_df[new_df['LAW_CAT_CD'] == '9'].index)\n",
    "new_df = new_df.drop(new_df[new_df['LAW_CAT_CD'] == 'I'].index)\n",
    "\n",
    "## After testing, this code has removed the aforementioned 2 columns"
   ]
  },
  {
   "cell_type": "code",
   "execution_count": 40,
   "metadata": {},
   "outputs": [
    {
     "name": "stdout",
     "output_type": "stream",
     "text": [
      "This many Felonies have been committed: 73853\n",
      "This many Violations have been committed: 973\n",
      "This many Misdemeanors have been committed: 93347\n"
     ]
    }
   ],
   "source": [
    "## This is to count the individual crimes in terms of status of Law \n",
    "\n",
    "Felony = []\n",
    "Violation = []\n",
    "Misdemeanor = []\n",
    "\n",
    "for x in new_df[\"LAW_CAT_CD\"]: \n",
    "    if x == 'F':\n",
    "        Felony.append(x)\n",
    "    elif x == 'M':\n",
    "        Misdemeanor.append(x)\n",
    "    elif x == 'V':\n",
    "        Violation.append(x)\n",
    "\n",
    "Felony_Num = len(Felony)\n",
    "Misdemeanor_Num = len(Misdemeanor)\n",
    "Violation_Num = len(Violation)\n",
    "\n",
    "print(f\"This many Felonies have been committed: {Felony_Num}\")\n",
    "print(f\"This many Violations have been committed: {Violation_Num}\")\n",
    "print(f\"This many Misdemeanors have been committed: {Misdemeanor_Num}\")"
   ]
  }
 ],
 "metadata": {
  "kernelspec": {
   "display_name": "Python 3",
   "language": "python",
   "name": "python3"
  },
  "language_info": {
   "codemirror_mode": {
    "name": "ipython",
    "version": 3
   },
   "file_extension": ".py",
   "mimetype": "text/x-python",
   "name": "python",
   "nbconvert_exporter": "python",
   "pygments_lexer": "ipython3",
   "version": "3.11.2"
  }
 },
 "nbformat": 4,
 "nbformat_minor": 2
}
