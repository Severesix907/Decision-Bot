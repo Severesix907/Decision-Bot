{
 "cells": [
  {
   "cell_type": "code",
   "execution_count": 2,
   "metadata": {},
   "outputs": [],
   "source": [
    "import pandas as pd\n",
    "import numpy as np\n",
    "import warnings\n",
    "import seaborn as sns\n",
    "import matplotlib.pyplot as plt\n",
    "\n",
    "warnings.filterwarnings('ignore')\n",
    "\n",
    "df = pd.read_csv(r'C:\\Users\\Xavier\\Decision-Bot\\data\\NYPD_Arrest_Data_2023.csv')\n",
    "\n",
    "# WebLink to Data : https://www.kaggle.com/datasets/justinpakzad/nypd-arrests-2023-dataset\n",
    "# Weblink to Codes : https://www.n2nov.net/nypdcodes.html"
   ]
  },
  {
   "cell_type": "code",
   "execution_count": 3,
   "metadata": {},
   "outputs": [
    {
     "data": {
      "text/html": [
       "<div>\n",
       "<style scoped>\n",
       "    .dataframe tbody tr th:only-of-type {\n",
       "        vertical-align: middle;\n",
       "    }\n",
       "\n",
       "    .dataframe tbody tr th {\n",
       "        vertical-align: top;\n",
       "    }\n",
       "\n",
       "    .dataframe thead th {\n",
       "        text-align: right;\n",
       "    }\n",
       "</style>\n",
       "<table border=\"1\" class=\"dataframe\">\n",
       "  <thead>\n",
       "    <tr style=\"text-align: right;\">\n",
       "      <th></th>\n",
       "      <th>ARREST_KEY</th>\n",
       "      <th>ARREST_DATE</th>\n",
       "      <th>PD_CD</th>\n",
       "      <th>PD_DESC</th>\n",
       "      <th>KY_CD</th>\n",
       "      <th>OFNS_DESC</th>\n",
       "      <th>LAW_CODE</th>\n",
       "      <th>LAW_CAT_CD</th>\n",
       "      <th>ARREST_BORO</th>\n",
       "      <th>ARREST_PRECINCT</th>\n",
       "      <th>JURISDICTION_CODE</th>\n",
       "      <th>AGE_GROUP</th>\n",
       "      <th>PERP_SEX</th>\n",
       "      <th>PERP_RACE</th>\n",
       "      <th>X_COORD_CD</th>\n",
       "      <th>Y_COORD_CD</th>\n",
       "      <th>Latitude</th>\n",
       "      <th>Longitude</th>\n",
       "    </tr>\n",
       "  </thead>\n",
       "  <tbody>\n",
       "    <tr>\n",
       "      <th>0</th>\n",
       "      <td>261209118</td>\n",
       "      <td>01/01/2023</td>\n",
       "      <td>109</td>\n",
       "      <td>ASSAULT 2,1,UNCLASSIFIED</td>\n",
       "      <td>106.0</td>\n",
       "      <td>FELONY ASSAULT</td>\n",
       "      <td>PL 1200501</td>\n",
       "      <td>F</td>\n",
       "      <td>K</td>\n",
       "      <td>77</td>\n",
       "      <td>0</td>\n",
       "      <td>45-64</td>\n",
       "      <td>F</td>\n",
       "      <td>BLACK</td>\n",
       "      <td>999335</td>\n",
       "      <td>186085</td>\n",
       "      <td>40.677426</td>\n",
       "      <td>-73.945615</td>\n",
       "    </tr>\n",
       "    <tr>\n",
       "      <th>1</th>\n",
       "      <td>262984267</td>\n",
       "      <td>02/03/2023</td>\n",
       "      <td>515</td>\n",
       "      <td>CONTROLLED SUBSTANCE,SALE 3</td>\n",
       "      <td>117.0</td>\n",
       "      <td>DANGEROUS DRUGS</td>\n",
       "      <td>PL 2203901</td>\n",
       "      <td>F</td>\n",
       "      <td>K</td>\n",
       "      <td>73</td>\n",
       "      <td>0</td>\n",
       "      <td>25-44</td>\n",
       "      <td>M</td>\n",
       "      <td>BLACK</td>\n",
       "      <td>1009318</td>\n",
       "      <td>178259</td>\n",
       "      <td>40.655923</td>\n",
       "      <td>-73.909650</td>\n",
       "    </tr>\n",
       "    <tr>\n",
       "      <th>2</th>\n",
       "      <td>263664549</td>\n",
       "      <td>02/15/2023</td>\n",
       "      <td>105</td>\n",
       "      <td>STRANGULATION 1ST</td>\n",
       "      <td>106.0</td>\n",
       "      <td>FELONY ASSAULT</td>\n",
       "      <td>PL 1211200</td>\n",
       "      <td>F</td>\n",
       "      <td>K</td>\n",
       "      <td>62</td>\n",
       "      <td>0</td>\n",
       "      <td>25-44</td>\n",
       "      <td>M</td>\n",
       "      <td>WHITE</td>\n",
       "      <td>982272</td>\n",
       "      <td>158771</td>\n",
       "      <td>40.602468</td>\n",
       "      <td>-74.007120</td>\n",
       "    </tr>\n",
       "    <tr>\n",
       "      <th>3</th>\n",
       "      <td>261345231</td>\n",
       "      <td>01/04/2023</td>\n",
       "      <td>105</td>\n",
       "      <td>STRANGULATION 1ST</td>\n",
       "      <td>106.0</td>\n",
       "      <td>FELONY ASSAULT</td>\n",
       "      <td>PL 1211200</td>\n",
       "      <td>F</td>\n",
       "      <td>M</td>\n",
       "      <td>32</td>\n",
       "      <td>0</td>\n",
       "      <td>25-44</td>\n",
       "      <td>M</td>\n",
       "      <td>BLACK</td>\n",
       "      <td>999899</td>\n",
       "      <td>238684</td>\n",
       "      <td>40.821797</td>\n",
       "      <td>-73.943457</td>\n",
       "    </tr>\n",
       "    <tr>\n",
       "      <th>4</th>\n",
       "      <td>263536618</td>\n",
       "      <td>02/13/2023</td>\n",
       "      <td>109</td>\n",
       "      <td>ASSAULT 2,1,UNCLASSIFIED</td>\n",
       "      <td>106.0</td>\n",
       "      <td>FELONY ASSAULT</td>\n",
       "      <td>PL 12005WX</td>\n",
       "      <td>F</td>\n",
       "      <td>K</td>\n",
       "      <td>71</td>\n",
       "      <td>0</td>\n",
       "      <td>25-44</td>\n",
       "      <td>M</td>\n",
       "      <td>BLACK</td>\n",
       "      <td>1001437</td>\n",
       "      <td>183080</td>\n",
       "      <td>40.669175</td>\n",
       "      <td>-73.938042</td>\n",
       "    </tr>\n",
       "  </tbody>\n",
       "</table>\n",
       "</div>"
      ],
      "text/plain": [
       "   ARREST_KEY ARREST_DATE  PD_CD                      PD_DESC  KY_CD  \\\n",
       "0   261209118  01/01/2023    109     ASSAULT 2,1,UNCLASSIFIED  106.0   \n",
       "1   262984267  02/03/2023    515  CONTROLLED SUBSTANCE,SALE 3  117.0   \n",
       "2   263664549  02/15/2023    105            STRANGULATION 1ST  106.0   \n",
       "3   261345231  01/04/2023    105            STRANGULATION 1ST  106.0   \n",
       "4   263536618  02/13/2023    109     ASSAULT 2,1,UNCLASSIFIED  106.0   \n",
       "\n",
       "         OFNS_DESC    LAW_CODE LAW_CAT_CD ARREST_BORO  ARREST_PRECINCT  \\\n",
       "0   FELONY ASSAULT  PL 1200501          F           K               77   \n",
       "1  DANGEROUS DRUGS  PL 2203901          F           K               73   \n",
       "2   FELONY ASSAULT  PL 1211200          F           K               62   \n",
       "3   FELONY ASSAULT  PL 1211200          F           M               32   \n",
       "4   FELONY ASSAULT  PL 12005WX          F           K               71   \n",
       "\n",
       "   JURISDICTION_CODE AGE_GROUP PERP_SEX PERP_RACE  X_COORD_CD  Y_COORD_CD  \\\n",
       "0                  0     45-64        F     BLACK      999335      186085   \n",
       "1                  0     25-44        M     BLACK     1009318      178259   \n",
       "2                  0     25-44        M     WHITE      982272      158771   \n",
       "3                  0     25-44        M     BLACK      999899      238684   \n",
       "4                  0     25-44        M     BLACK     1001437      183080   \n",
       "\n",
       "    Latitude  Longitude  \n",
       "0  40.677426 -73.945615  \n",
       "1  40.655923 -73.909650  \n",
       "2  40.602468 -74.007120  \n",
       "3  40.821797 -73.943457  \n",
       "4  40.669175 -73.938042  "
      ]
     },
     "execution_count": 3,
     "metadata": {},
     "output_type": "execute_result"
    }
   ],
   "source": [
    "df.head()"
   ]
  },
  {
   "cell_type": "code",
   "execution_count": 4,
   "metadata": {},
   "outputs": [
    {
     "name": "stdout",
     "output_type": "stream",
     "text": [
      "<class 'pandas.core.frame.DataFrame'>\n",
      "RangeIndex: 170095 entries, 0 to 170094\n",
      "Data columns (total 18 columns):\n",
      " #   Column             Non-Null Count   Dtype  \n",
      "---  ------             --------------   -----  \n",
      " 0   ARREST_KEY         170095 non-null  int64  \n",
      " 1   ARREST_DATE        170095 non-null  object \n",
      " 2   PD_CD              170095 non-null  int64  \n",
      " 3   PD_DESC            170095 non-null  object \n",
      " 4   KY_CD              170082 non-null  float64\n",
      " 5   OFNS_DESC          170095 non-null  object \n",
      " 6   LAW_CODE           170095 non-null  object \n",
      " 7   LAW_CAT_CD         168838 non-null  object \n",
      " 8   ARREST_BORO        170095 non-null  object \n",
      " 9   ARREST_PRECINCT    170095 non-null  int64  \n",
      " 10  JURISDICTION_CODE  170095 non-null  int64  \n",
      " 11  AGE_GROUP          170095 non-null  object \n",
      " 12  PERP_SEX           170095 non-null  object \n",
      " 13  PERP_RACE          170095 non-null  object \n",
      " 14  X_COORD_CD         170095 non-null  int64  \n",
      " 15  Y_COORD_CD         170095 non-null  int64  \n",
      " 16  Latitude           170095 non-null  float64\n",
      " 17  Longitude          170095 non-null  float64\n",
      "dtypes: float64(3), int64(6), object(9)\n",
      "memory usage: 23.4+ MB\n"
     ]
    }
   ],
   "source": [
    "df.info()"
   ]
  },
  {
   "cell_type": "code",
   "execution_count": 5,
   "metadata": {},
   "outputs": [
    {
     "data": {
      "text/plain": [
       "ARREST_KEY              0\n",
       "ARREST_DATE             0\n",
       "PD_CD                   0\n",
       "PD_DESC                 0\n",
       "KY_CD                  13\n",
       "OFNS_DESC               0\n",
       "LAW_CODE                0\n",
       "LAW_CAT_CD           1257\n",
       "ARREST_BORO             0\n",
       "ARREST_PRECINCT         0\n",
       "JURISDICTION_CODE       0\n",
       "AGE_GROUP               0\n",
       "PERP_SEX                0\n",
       "PERP_RACE               0\n",
       "X_COORD_CD              0\n",
       "Y_COORD_CD              0\n",
       "Latitude                0\n",
       "Longitude               0\n",
       "dtype: int64"
      ]
     },
     "execution_count": 5,
     "metadata": {},
     "output_type": "execute_result"
    }
   ],
   "source": [
    "df.isna().sum() \n",
    "#Finds null values in data (0 = No Missing Data)"
   ]
  },
  {
   "cell_type": "markdown",
   "metadata": {},
   "source": [
    "#### Removing Irrelevant Data to our project\n",
    "* Coordinate info\n",
    "* LAW_CAT_CD"
   ]
  },
  {
   "cell_type": "code",
   "execution_count": 6,
   "metadata": {},
   "outputs": [],
   "source": [
    "#Removing Unnecessary Data\n",
    "new_df = df.dropna()\n",
    "#This code creates a new data set, whilst removing null values"
   ]
  },
  {
   "cell_type": "code",
   "execution_count": 7,
   "metadata": {},
   "outputs": [
    {
     "data": {
      "text/plain": [
       "ARREST_KEY           0\n",
       "ARREST_DATE          0\n",
       "PD_CD                0\n",
       "PD_DESC              0\n",
       "KY_CD                0\n",
       "OFNS_DESC            0\n",
       "LAW_CODE             0\n",
       "LAW_CAT_CD           0\n",
       "ARREST_BORO          0\n",
       "ARREST_PRECINCT      0\n",
       "JURISDICTION_CODE    0\n",
       "AGE_GROUP            0\n",
       "PERP_SEX             0\n",
       "PERP_RACE            0\n",
       "X_COORD_CD           0\n",
       "Y_COORD_CD           0\n",
       "Latitude             0\n",
       "Longitude            0\n",
       "dtype: int64"
      ]
     },
     "execution_count": 7,
     "metadata": {},
     "output_type": "execute_result"
    }
   ],
   "source": [
    "#Data Removed\n",
    "new_df.isna().sum()\n",
    "#Testing to ensure the null values are removed "
   ]
  },
  {
   "cell_type": "code",
   "execution_count": 8,
   "metadata": {},
   "outputs": [
    {
     "name": "stdout",
     "output_type": "stream",
     "text": [
      "Patrol jurisdiction arrests: 150598 \n",
      "Tranist jurisdiction arrests: 7966 \n",
      "Housing jurisdiction arrests: 6262 \n",
      "Non-NYPD jurisdiction arrests: 3999 \n",
      "\n"
     ]
    }
   ],
   "source": [
    "a = 0 # '0' Patrol \n",
    "b = 0 # '1' Transit\n",
    "c = 0 # '2' Housing \n",
    "d = 0 # '3' Non-NYPD\n",
    "\n",
    "# This is making lists for each Jurisdiction code \n",
    "\n",
    "for x in new_df[\"JURISDICTION_CODE\"]: \n",
    "    if x == 0: # If x reads code 0\n",
    "        a += 1 # A counts up \n",
    "    elif x == 1: # If x counts code 1 \n",
    "        b += 1 # B counts up \n",
    "    elif x == 2: # If x reads code 2 \n",
    "        c += 1 # C counts up\n",
    "    else: \n",
    "        x == 3 # If x reads code 3 \n",
    "        d += 1 # D counts up\n",
    "\n",
    "print (f\"Patrol jurisdiction arrests: {a} \\n\" # Prints each jurisdiction code arrests\n",
    "       f\"Tranist jurisdiction arrests: {b} \\n\"\n",
    "       f\"Housing jurisdiction arrests: {c} \\n\"\n",
    "       f\"Non-NYPD jurisdiction arrests: {d} \\n\") # 'f' required before \"{'lists made'}\" to ensure that it formats the int to print "
   ]
  },
  {
   "cell_type": "markdown",
   "metadata": {},
   "source": [
    "### We can determine that mosts arrests are made by Patrol jurisdiction"
   ]
  },
  {
   "cell_type": "code",
   "execution_count": 9,
   "metadata": {},
   "outputs": [
    {
     "data": {
      "image/png": "[encoded data removed]",
      "text/plain": [
       "<Figure size 1500x1000 with 9 Axes>"
      ]
     },
     "metadata": {},
     "output_type": "display_data"
    }
   ],
   "source": [
    "new_df.hist(figsize = (15,10), color = 'skyblue')\n",
    "plt.subplots_adjust(hspace = 0.5) \n",
    "plt.show()\n",
    "\n",
    "# After viewing that the data is only corresponding to types of int64/float64 we must now organize data for objects as they do not appear. "
   ]
  },
  {
   "cell_type": "code",
   "execution_count": 10,
   "metadata": {},
   "outputs": [
    {
     "name": "stdout",
     "output_type": "stream",
     "text": [
      "This many Males have committed a crime: 136432\n",
      "This many Females have committed a crime: 28903\n"
     ]
    }
   ],
   "source": [
    "## This is to identify the individual sexes that have commited crimes respectively (PERP_SEX)\n",
    "\n",
    "Male = []\n",
    "\n",
    "for x in new_df[\"PERP_SEX\"]:\n",
    "    if x =='M':\n",
    "        Male.append(x)\n",
    "\n",
    "Male_Num = len(Male)\n",
    "print(f\"This many Males have committed a crime: {Male_Num}\")\n",
    "\n",
    "Female = []\n",
    "\n",
    "for x in new_df[\"PERP_SEX\"]:\n",
    "    if x =='F':\n",
    "        Female.append(x)\n",
    "\n",
    "Female_Num = len(Female)\n",
    "\n",
    "print(f\"This many Females have committed a crime: {Female_Num}\")"
   ]
  },
  {
   "cell_type": "code",
   "execution_count": 11,
   "metadata": {},
   "outputs": [],
   "source": [
    "## This is to drop 2 categories in LAW_CAT_CD section as they are irrelevant\n",
    "\n",
    "new_df = new_df.drop(new_df[new_df['LAW_CAT_CD'] == '9'].index)\n",
    "new_df = new_df.drop(new_df[new_df['LAW_CAT_CD'] == 'I'].index)\n",
    "\n",
    "## After testing, this code has removed the aforementioned 2 columns"
   ]
  },
  {
   "cell_type": "code",
   "execution_count": 12,
   "metadata": {},
   "outputs": [
    {
     "name": "stdout",
     "output_type": "stream",
     "text": [
      "This many Felonies have been committed: 73853\n",
      "This many Violations have been committed: 973\n",
      "This many Misdemeanors have been committed: 93347\n"
     ]
    }
   ],
   "source": [
    "## This is to count the individual crimes in terms of status of Law \n",
    "\n",
    "# Creating a list for the predetermined categories \n",
    "Felony = []\n",
    "Violation = []\n",
    "Misdemeanor = []\n",
    "\n",
    "#For loop to iterate through column given a specific condition \n",
    "for x in new_df[\"LAW_CAT_CD\"]: \n",
    "    if x == 'F':            # The condition is if it read the specified characters then to categorize them to their specified categories \n",
    "        Felony.append(x)\n",
    "    elif x == 'M':\n",
    "        Misdemeanor.append(x)\n",
    "    elif x == 'V':\n",
    "        Violation.append(x)\n",
    "\n",
    "Felony_Num = len(Felony)   # After creating the categories for each and adding them to their lists, this will count each list using a temp variable\n",
    "Misdemeanor_Num = len(Misdemeanor)\n",
    "Violation_Num = len(Violation)\n",
    "\n",
    "print(f\"This many Felonies have been committed: {Felony_Num}\")\n",
    "print(f\"This many Violations have been committed: {Violation_Num}\")\n",
    "print(f\"This many Misdemeanors have been committed: {Misdemeanor_Num}\")"
   ]
  },
  {
   "cell_type": "code",
   "execution_count": 13,
   "metadata": {},
   "outputs": [],
   "source": [
    "## We need to remove 17 different variables: \n",
    "## (3,4,7,11,14,15,17,51,69,71,72,73,74,79,85,87,88,97)\n",
    "\n",
    "new_df = new_df.drop(new_df[new_df['JURISDICTION_CODE'] == '71'].index)"
   ]
  },
  {
   "cell_type": "code",
   "execution_count": 14,
   "metadata": {},
   "outputs": [
    {
     "name": "stdout",
     "output_type": "stream",
     "text": [
      "This many Patrol arrests have been made: 150167\n",
      "This many Transit arrests have been made: 7954\n",
      "This many Housing arrests have been made: 6258\n",
      "This many Non NYPD have been committed: 3794\n"
     ]
    }
   ],
   "source": [
    "# Creating a list for the predetermined categories \n",
    "Patrol = []\n",
    "Transit = []\n",
    "Housing = []\n",
    "Non_NYPD = []\n",
    "\n",
    "#For loop to iterate through column given a specific condition \n",
    "for x in new_df[\"JURISDICTION_CODE\"]: \n",
    "    if x == 0:\n",
    "        Patrol.append(x)     # The condition is if it read the specified characters then to categorize them to their specified categories \n",
    "    elif x == 1:\n",
    "        Transit.append(x)\n",
    "    elif x == 2:\n",
    "        Housing.append(x)\n",
    "    elif x >= 3:\n",
    "        Non_NYPD.append(x)        \n",
    "\n",
    "Patrol_Num = len(Patrol)     # After creating the categories for each and adding them to their lists, this will count each list using a temp variable\n",
    "Transit_Num = len(Transit)\n",
    "Housing_Num = len(Housing)\n",
    "Non_NYPD_Num = len(Non_NYPD)\n",
    "\n",
    "print(f\"This many Patrol arrests have been made: {Patrol_Num}\")\n",
    "print(f\"This many Transit arrests have been made: {Transit_Num}\")\n",
    "print(f\"This many Housing arrests have been made: {Housing_Num}\")\n",
    "print(f\"This many Non NYPD have been committed: {Non_NYPD_Num}\")"
   ]
  },
  {
   "cell_type": "code",
   "execution_count": 15,
   "metadata": {},
   "outputs": [
    {
     "name": "stdout",
     "output_type": "stream",
     "text": [
      "This many crimes have been commited in The Bronx: 39646\n",
      "This many crimes have been commited in Brooklyn: 46606\n",
      "This many crimes have been commited in Manhattan: 38902\n",
      "This many crimes have been commited in Queens: 35613\n",
      "This many crimes have been commited in Staten Island: 7406\n"
     ]
    }
   ],
   "source": [
    "# Creating a list for the predetermined categories \n",
    "Bronx = []\n",
    "Brooklyn = []\n",
    "Manhattan = []\n",
    "Queens = []\n",
    "Staten_Island = []\n",
    "\n",
    "#For loop to iterate through column given a specific conditionf\n",
    "for x in new_df[\"ARREST_BORO\"]:    \n",
    "    if x == 'B':            # The condition is if it read the specified characters then to categorize them to their specified categories \n",
    "        Bronx.append(x)\n",
    "    elif x == 'K':\n",
    "        Brooklyn.append(x)\n",
    "    elif x == 'M':\n",
    "        Manhattan.append(x)\n",
    "    elif x == 'Q':\n",
    "        Queens.append(x)\n",
    "    elif x == 'S':\n",
    "        Staten_Island.append(x)   \n",
    "\n",
    "Bronx_Num = len(Bronx)           # After creating the categories for each and adding them to their lists, this will count each list using a temp variable\n",
    "Brooklyn_Num = len(Brooklyn)\n",
    "Manhattan_Num = len(Manhattan)\n",
    "Queens_Num = len(Queens)\n",
    "Staten_Island_Num = len(Staten_Island)\n",
    "\n",
    "print(f\"This many crimes have been commited in The Bronx: {Bronx_Num}\")\n",
    "print(f\"This many crimes have been commited in Brooklyn: {Brooklyn_Num}\")\n",
    "print(f\"This many crimes have been commited in Manhattan: {Manhattan_Num}\")\n",
    "print(f\"This many crimes have been commited in Queens: {Queens_Num}\")\n",
    "print(f\"This many crimes have been commited in Staten Island: {Staten_Island_Num}\")\n"
   ]
  },
  {
   "cell_type": "code",
   "execution_count": 16,
   "metadata": {},
   "outputs": [
    {
     "name": "stdout",
     "output_type": "stream",
     "text": [
      "Whites have commited this many crimes: 16142\n",
      "Blacks have commited this many crimes: 81340\n",
      "White Hispanics have commited this many crimes: 42559\n",
      "Black Hispanics have commited this many crimes: 16253\n",
      "Asian / Pacific Islanders have commited this many crimes: 8907\n",
      "This many perps have an unidentified race and have commited this many crimes: 2424\n"
     ]
    }
   ],
   "source": [
    "# Creating a list for the predetermined categories \n",
    "White = []\n",
    "Black = []\n",
    "White_Hispanic = []\n",
    "Black_Hispanic = []\n",
    "Asian_PI = []\n",
    "Unknown = []\n",
    "\n",
    "#For loop to iterate through column given a specific condition\n",
    "for x in new_df[\"PERP_RACE\"]:       \n",
    "    if x == 'WHITE':            # The condition is if it read the specified characters then to categorize them to their specified categories\n",
    "        White.append(x)\n",
    "    elif x == 'BLACK':\n",
    "        Black.append(x)\n",
    "    elif x == 'WHITE HISPANIC':\n",
    "        White_Hispanic.append(x)\n",
    "    elif x == 'BLACK HISPANIC':\n",
    "        Black_Hispanic.append(x)\n",
    "    elif x == 'ASIAN / PACIFIC ISLANDER':\n",
    "        Asian_PI.append(x)\n",
    "    elif x == 'UNKNOWN':\n",
    "        Unknown.append(x)\n",
    "\n",
    "White_Num = len(White)       # After creating the categories for each and adding them to their lists, this will count each list using a temp variable\n",
    "Black_Num = len(Black)\n",
    "White_Hispanic_Num = len(White_Hispanic)\n",
    "Black_Hispanic_Num = len(Black_Hispanic)\n",
    "Asian_PI_Num = len(Asian_PI)\n",
    "Unknown_Num = len(Unknown)\n",
    "\n",
    "print(f\"Whites have commited this many crimes: {White_Num}\")\n",
    "print(f\"Blacks have commited this many crimes: {Black_Num}\")\n",
    "print(f\"White Hispanics have commited this many crimes: {White_Hispanic_Num}\")\n",
    "print(f\"Black Hispanics have commited this many crimes: {Black_Hispanic_Num}\")\n",
    "print(f\"Asian / Pacific Islanders have commited this many crimes: {Asian_PI_Num}\")\n",
    "print(f\"This many perps have an unidentified race and have commited this many crimes: {Unknown_Num}\")\n"
   ]
  },
  {
   "cell_type": "code",
   "execution_count": 17,
   "metadata": {},
   "outputs": [
    {
     "name": "stdout",
     "output_type": "stream",
     "text": [
      "This many Young Adults from 18-24 have commited a crime: 29720\n",
      "This many Adults from 25-44 have commited a crime: 96428\n",
      "This many Middle Aged Adults from 45-64 have commited a crime: 33018\n",
      "This many Seniors 65+ have commited a crime: 2765\n"
     ]
    }
   ],
   "source": [
    "# Creating a list for the predetermined categories \n",
    "Young_Adult = [] #18-24\n",
    "Adult = [] #25-44\n",
    "MiddleAge = [] #45-64\n",
    "SeniorAge = [] #65+ \n",
    "\n",
    "#For loop to iterate through column given a specific condition\n",
    "for x in new_df[\"AGE_GROUP\"]: \n",
    "    if x == '18-24':            # The condition is if it read the specified characters then to categorize them to their specified categories\n",
    "        Young_Adult.append(x)\n",
    "    elif x == '25-44':\n",
    "        Adult.append(x)\n",
    "    elif x == '45-64': \n",
    "        MiddleAge.append(x)\n",
    "    elif x == '65+': \n",
    "        SeniorAge.append(x)\n",
    "\n",
    "Young_Adult_Num = len(Young_Adult)      # After creating the categories for each and adding them to their lists, this will count each list using a temp variable\n",
    "Adult_Num = len(Adult)\n",
    "MiddleAge_Num = len(MiddleAge)\n",
    "SeniorAge_Num = len(SeniorAge)\n",
    "\n",
    "print(f\"This many Young Adults from 18-24 have commited a crime: {Young_Adult_Num}\")\n",
    "print(f\"This many Adults from 25-44 have commited a crime: {Adult_Num}\")\n",
    "print(f\"This many Middle Aged Adults from 45-64 have commited a crime: {MiddleAge_Num}\")\n",
    "print(f\"This many Seniors 65+ have commited a crime: {SeniorAge_Num}\")"
   ]
  },
  {
   "cell_type": "markdown",
   "metadata": {},
   "source": [
    "## Objects to be converted\n",
    "### Easiest (Top)\n",
    "* Sex; m = 0, f = 1 [DONE] \n",
    "* Law Cat CD; Violation = 0, Misdemeanor = 1, Felony = 2; [DONE]\n",
    "* Jurisdiction code; Patrol = 0, Transit = 1, Housing = 2, Non-NYPD = 3[DONE]\n",
    "* Arrest Borough; Bk, Bx, Q, M, S = [0-4]; [DONE]\n",
    "* Perp Race (White = 0, Black = 1, White Hispanic = 2, Black Hispanic = 3, Asian/ PI = 4) [DONE]\n",
    "* Age Group (<18 = 0, 18-24 = 1, 25-44 = 2, 45-64 = 3, 65+ = 4) [DONE]\n",
    "* Arrest Date; if 1, Jan. (Date range to determine which week. Ex: if x < 1 || x > 31;) [DONE]\n",
    "* \n",
    "* PD_CD = PD_DESC(Run loop to find which codes equal desc) [Ex:PD_CD = 105 == PD_DESC = Strangulation 1st]\n",
    "#### Hardest (Bottom)"
   ]
  },
  {
   "cell_type": "code",
   "execution_count": 18,
   "metadata": {},
   "outputs": [
    {
     "data": {
      "text/plain": [
       "0      January\n",
       "1     February\n",
       "2     February\n",
       "3      January\n",
       "4     February\n",
       "5      January\n",
       "6      January\n",
       "7        March\n",
       "8      January\n",
       "9        March\n",
       "10     January\n",
       "11    February\n",
       "12    February\n",
       "13       April\n",
       "14       March\n",
       "15       April\n",
       "16       April\n",
       "17       March\n",
       "18    February\n",
       "19       March\n",
       "Name: ARREST_MONTH, dtype: object"
      ]
     },
     "execution_count": 18,
     "metadata": {},
     "output_type": "execute_result"
    }
   ],
   "source": [
    "# Importing tool to allow for time to be read\n",
    "from datetime import datetime  \n",
    "\n",
    "# This will extract the dates given through CSV and return them as objects to read in Month, Day, Year format.\n",
    "def extract_month(date_str):\n",
    "    date_object = datetime.strptime(date_str, \"%m/%d/%Y\")\n",
    "    return date_object.month\n",
    "\n",
    "# Applying the code to read through a specific column in our data\n",
    "new_df['ARREST_MONTH'] = new_df['ARREST_DATE'].apply(lambda x: extract_month(x))\n",
    "\n",
    "# Mapping each month to a specific number \n",
    "month_mapping = { \n",
    "    1: 'January',\n",
    "    2: 'February',\n",
    "    3: 'March',\n",
    "    4: 'April',\n",
    "    5: 'May',\n",
    "    6: 'June',\n",
    "    7: 'July',\n",
    "    8: 'August',\n",
    "    9: 'September',\n",
    "    10: 'October',\n",
    "    11: 'November',\n",
    "    12: 'December',\n",
    "}\n",
    "\n",
    "# Applying the month mapping to the column\n",
    "new_df['ARREST_MONTH'] = new_df['ARREST_MONTH'].map(month_mapping)\n",
    "\n",
    "# Testing to see if the months read from the code given\n",
    "new_df['ARREST_MONTH'].head(20)"
   ]
  },
  {
   "cell_type": "code",
   "execution_count": 19,
   "metadata": {},
   "outputs": [],
   "source": [
    "clean_df = new_df.drop(columns = ['X_COORD_CD', 'Y_COORD_CD', 'Latitude', 'Longitude'], axis = 0)\n",
    "#new_df is being reassigned to NEW_DF with the updated data (Removing coordinates / Altitude)"
   ]
  },
  {
   "cell_type": "code",
   "execution_count": 20,
   "metadata": {},
   "outputs": [],
   "source": [
    "clean_df.to_csv('Clean_NYPD_Arrest_Data', index = False)"
   ]
  }
 ],
 "metadata": {
  "kernelspec": {
   "display_name": "Python 3",
   "language": "python",
   "name": "python3"
  },
  "language_info": {
   "codemirror_mode": {
    "name": "ipython",
    "version": 3
   },
   "file_extension": ".py",
   "mimetype": "text/x-python",
   "name": "python",
   "nbconvert_exporter": "python",
   "pygments_lexer": "ipython3",
   "version": "3.11.2"
  }
 },
 "nbformat": 4,
 "nbformat_minor": 2
}
